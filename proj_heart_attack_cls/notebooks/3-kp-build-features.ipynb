{
 "cells": [
  {
   "cell_type": "code",
   "execution_count": 1,
   "metadata": {},
   "outputs": [],
   "source": [
    "import pandas as pd\n",
    "from sklearn.model_selection import train_test_split\n",
    "from sklearn.pipeline import Pipeline\n",
    "from sklearn.compose import ColumnTransformer\n",
    "from sklearn.preprocessing import OneHotEncoder, StandardScaler\n",
    "from sklearn.impute import SimpleImputer"
   ]
  },
  {
   "cell_type": "code",
   "execution_count": 2,
   "metadata": {},
   "outputs": [],
   "source": [
    "df = pd.read_pickle(\"../data/processed/heart_processed\")"
   ]
  },
  {
   "cell_type": "code",
   "execution_count": 3,
   "metadata": {},
   "outputs": [],
   "source": [
    "features = df.drop('output', axis=1).columns\n",
    "target = 'output'\n",
    "\n",
    "X = df[features]\n",
    "y = df[target]\n",
    "\n",
    "num_attr = X.select_dtypes(include='number').columns\n",
    "cat_attr = X.select_dtypes(exclude='number').columns\n",
    "\n",
    "# split dataset for train and test test\n",
    "X_train, X_test, y_train, y_test = train_test_split(X, y, random_state=42, test_size=0.2)\n",
    "\n",
    "\n",
    "# pipeline for numeric attributes\n",
    "num_pipeline = Pipeline(\n",
    "    [\n",
    "        ('imputer', SimpleImputer(strategy='median')),\n",
    "        ('scaler', StandardScaler())\n",
    "    ]\n",
    ")\n",
    "\n",
    "# pipeline for categorial attributes\n",
    "cat_pipeline = Pipeline(\n",
    "    [\n",
    "        ('imputer', SimpleImputer(strategy='most_frequent')),\n",
    "        ('ohe', OneHotEncoder(sparse=False))\n",
    "    ]\n",
    ")\n",
    "\n",
    "full_pipeline = ColumnTransformer(\n",
    "    [\n",
    "        ('num', num_pipeline, num_attr),\n",
    "        ('cat', cat_pipeline, cat_attr)\n",
    "    ]\n",
    ")"
   ]
  },
  {
   "cell_type": "code",
   "execution_count": 5,
   "metadata": {},
   "outputs": [],
   "source": [
    "# train df with column names after pipeline preprocessing \n",
    "X_train_tr = pd.DataFrame(data=full_pipeline.fit_transform(X_train), columns=full_pipeline.get_feature_names_out())"
   ]
  },
  {
   "cell_type": "code",
   "execution_count": null,
   "metadata": {},
   "outputs": [],
   "source": [
    "# test df with column names after pipeline preprocessing \n",
    "X_test_tr = pd.DataFrame(data=full_pipeline.transform(X_test), columns=full_pipeline.get_feature_names_out())"
   ]
  }
 ],
 "metadata": {
  "interpreter": {
   "hash": "c255ba86a6d0075ceff98e91438cda1cc57aee8ebb35fc649c7209093bee4b9f"
  },
  "kernelspec": {
   "display_name": "Python 3.10.2 ('venv': venv)",
   "language": "python",
   "name": "python3"
  },
  "language_info": {
   "codemirror_mode": {
    "name": "ipython",
    "version": 3
   },
   "file_extension": ".py",
   "mimetype": "text/x-python",
   "name": "python",
   "nbconvert_exporter": "python",
   "pygments_lexer": "ipython3",
   "version": "3.10.2"
  },
  "orig_nbformat": 4
 },
 "nbformat": 4,
 "nbformat_minor": 2
}
