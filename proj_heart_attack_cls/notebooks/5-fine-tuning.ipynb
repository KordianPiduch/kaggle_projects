{
 "cells": [
  {
   "cell_type": "code",
   "execution_count": 46,
   "metadata": {},
   "outputs": [],
   "source": [
    "import pickle\n",
    "\n",
    "from src.features.build_features import get_train_test\n",
    "from src.models.find_model import check_model\n",
    "\n",
    "from sklearn.ensemble import RandomForestClassifier, GradientBoostingClassifier\n",
    "from sklearn.svm import SVC\n",
    "from sklearn.model_selection import GridSearchCV"
   ]
  },
  {
   "cell_type": "code",
   "execution_count": 47,
   "metadata": {},
   "outputs": [],
   "source": [
    "df_path = \"../data/processed/heart_processed\"\n",
    "X_train, X_test, y_train, y_test = get_train_test(df_path)"
   ]
  },
  {
   "cell_type": "markdown",
   "metadata": {},
   "source": [
    "# Fine-tuning Random Forest Classifier"
   ]
  },
  {
   "cell_type": "code",
   "execution_count": 48,
   "metadata": {},
   "outputs": [],
   "source": [
    "from sklearn.decomposition import PCA\n",
    "\n",
    "pca = PCA()\n",
    "X_train_pca = pca.fit_transform(X_train)\n",
    "X_test_pca = pca.transform(X_test)"
   ]
  },
  {
   "cell_type": "code",
   "execution_count": 38,
   "metadata": {},
   "outputs": [
    {
     "name": "stdout",
     "output_type": "stream",
     "text": [
      "Fitting 10 folds for each of 243 candidates, totalling 2430 fits\n",
      "{'criterion': 'gini', 'max_depth': 2, 'max_features': 0.1, 'min_samples_split': 3, 'n_estimators': 150}\n"
     ]
    }
   ],
   "source": [
    "rf_cls = RandomForestClassifier(random_state=42, n_jobs=-1, bootstrap=True, oob_score=True)\n",
    "\n",
    "rf_params = [\n",
    "    {\n",
    "    \"max_depth\" : [2,3,4],\n",
    "    \"min_samples_split\" : [3,5,7], \n",
    "    \"n_estimators\" : [50, 100, 150],\n",
    "    \"criterion\" : [\"gini\", \"entropy\", \"log_loss\"],\n",
    "    \"max_features\" : [0.1, 0.5, 1.0]\n",
    "    }\n",
    "]\n",
    "\n",
    "rs_cls_gs = GridSearchCV(rf_cls, rf_params, cv=10, verbose=1, scoring=\"recall\")\n",
    "\n",
    "rs_cls_gs.fit(X_train_pca, y_train)\n",
    "print(rs_cls_gs.best_params_)"
   ]
  },
  {
   "cell_type": "code",
   "execution_count": 42,
   "metadata": {},
   "outputs": [
    {
     "name": "stdout",
     "output_type": "stream",
     "text": [
      "\t\t train\t| test\n",
      "precision\t 0.81 \t| 0.88\n",
      "recall\t\t 0.96 \t| 0.94\n",
      "f1-score\t 0.88 \t| 0.91\n",
      "accuracy\t 0.86 \t| 0.9\n"
     ]
    },
    {
     "data": {
      "image/png": "[encoded data removed]",
      "text/plain": [
       "<Figure size 432x288 with 1 Axes>"
      ]
     },
     "metadata": {
      "needs_background": "light"
     },
     "output_type": "display_data"
    }
   ],
   "source": [
    "rf_cls = rs_cls_gs.best_estimator_\n",
    "check_model(rf_cls, X_train_pca, X_test_pca, y_train, y_test, roc=True)\n",
    "\n",
    "# save model\n",
    "# with open(\"../models/random_forest.pkl\", \"wb\") as file:\n",
    "#     pickle.dump(rf_cls, file)"
   ]
  },
  {
   "cell_type": "markdown",
   "metadata": {},
   "source": [
    "# Fine-tuning Gradient Boosting Classifier"
   ]
  },
  {
   "cell_type": "code",
   "execution_count": 59,
   "metadata": {},
   "outputs": [
    {
     "name": "stdout",
     "output_type": "stream",
     "text": [
      "Fitting 10 folds for each of 96 candidates, totalling 960 fits\n",
      "{'learning_rate': 0.01, 'max_depth': 4, 'max_features': 0.2, 'min_samples_split': 3, 'n_estimators': 50}\n"
     ]
    }
   ],
   "source": [
    "gb_cls = GradientBoostingClassifier(random_state=42, loss=\"log_loss\", criterion=\"friedman_mse\")\n",
    "\n",
    "gb_params = [\n",
    "    {\n",
    "    \"n_estimators\" : [50, 100, 150, 200], \n",
    "    \"max_depth\" : [2,3,4], \n",
    "    \"min_samples_split\" : [3, 5], \n",
    "    \"max_features\" : [0.1, 0.2],\n",
    "    \"learning_rate\" : [0.01, 0.1]\n",
    "    }\n",
    "]\n",
    "\n",
    "gb_cls_gs = GridSearchCV(gb_cls, gb_params, cv=10, verbose=1, scoring=\"recall\")\n",
    "\n",
    "gb_cls_gs.fit(X_train_pca, y_train)\n",
    "print(gb_cls_gs.best_params_)"
   ]
  },
  {
   "cell_type": "code",
   "execution_count": 62,
   "metadata": {},
   "outputs": [
    {
     "name": "stdout",
     "output_type": "stream",
     "text": [
      "\t\t train\t| test\n",
      "precision\t 0.89 \t| 0.89\n",
      "recall\t\t 0.99 \t| 0.97\n",
      "f1-score\t 0.94 \t| 0.93\n",
      "accuracy\t 0.93 \t| 0.92\n"
     ]
    },
    {
     "data": {
      "image/png": "[encoded data removed]",
      "text/plain": [
       "<Figure size 432x288 with 1 Axes>"
      ]
     },
     "metadata": {
      "needs_background": "light"
     },
     "output_type": "display_data"
    }
   ],
   "source": [
    "gb_cls = gb_cls_gs.best_estimator_\n",
    "check_model(gb_cls, X_train_pca, X_test_pca, y_train, y_test, roc=True)\n",
    "\n",
    "# save model\n",
    "# with open(\"../models/gradient_boosting.pkl\", \"wb\") as file:\n",
    "#     pickle.dump(gb_cls, file)"
   ]
  },
  {
   "cell_type": "markdown",
   "metadata": {},
   "source": [
    "# Fine-tuning SVM with poly and rbf kernel"
   ]
  },
  {
   "cell_type": "code",
   "execution_count": 44,
   "metadata": {},
   "outputs": [
    {
     "name": "stdout",
     "output_type": "stream",
     "text": [
      "Fitting 10 folds for each of 120 candidates, totalling 1200 fits\n",
      "{'C': 0.01, 'degree': 2, 'gamma': 'auto', 'kernel': 'poly'}\n"
     ]
    }
   ],
   "source": [
    "svm_cls = SVC(random_state=42)\n",
    "\n",
    "svm_params = [\n",
    "    {\n",
    "        \"kernel\" : [\"poly\", \"rbf\"],\n",
    "        \"C\" : [0.01, 0.1, 0.2, 0.3, 0.4],\n",
    "        \"degree\" : [2,3,4,5,6,7],\n",
    "        \"gamma\" : [\"auto\", \"scale\"],\n",
    "    }\n",
    "]\n",
    "\n",
    "svm_cls_gs = GridSearchCV(svm_cls, svm_params, cv=10, verbose=1, scoring=\"recall\")\n",
    "\n",
    "svm_cls_gs.fit(X_train, y_train)\n",
    "print(svm_cls_gs.best_params_)"
   ]
  },
  {
   "cell_type": "code",
   "execution_count": 43,
   "metadata": {},
   "outputs": [
    {
     "name": "stdout",
     "output_type": "stream",
     "text": [
      "\t\t train\t| test\n",
      "precision\t 0.64 \t| 0.71\n",
      "recall\t\t 1.0 \t| 0.94\n",
      "f1-score\t 0.78 \t| 0.81\n",
      "accuracy\t 0.69 \t| 0.77\n"
     ]
    },
    {
     "data": {
      "image/png": "[encoded data removed]",
      "text/plain": [
       "<Figure size 432x288 with 1 Axes>"
      ]
     },
     "metadata": {
      "needs_background": "light"
     },
     "output_type": "display_data"
    }
   ],
   "source": [
    "svm_cls = svm_cls_gs.best_estimator_\n",
    "check_model(svm_cls, X_train, X_test, y_train, y_test, roc=True)"
   ]
  },
  {
   "cell_type": "code",
   "execution_count": null,
   "metadata": {},
   "outputs": [],
   "source": []
  }
 ],
 "metadata": {
  "interpreter": {
   "hash": "c255ba86a6d0075ceff98e91438cda1cc57aee8ebb35fc649c7209093bee4b9f"
  },
  "kernelspec": {
   "display_name": "Python 3.10.2 ('venv': venv)",
   "language": "python",
   "name": "python3"
  },
  "language_info": {
   "codemirror_mode": {
    "name": "ipython",
    "version": 3
   },
   "file_extension": ".py",
   "mimetype": "text/x-python",
   "name": "python",
   "nbconvert_exporter": "python",
   "pygments_lexer": "ipython3",
   "version": "3.10.2"
  },
  "orig_nbformat": 4
 },
 "nbformat": 4,
 "nbformat_minor": 2
}
