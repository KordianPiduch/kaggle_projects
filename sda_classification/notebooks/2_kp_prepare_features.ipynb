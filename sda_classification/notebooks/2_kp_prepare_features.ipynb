{
 "cells": [
  {
   "cell_type": "code",
   "execution_count": 1,
   "metadata": {},
   "outputs": [],
   "source": [
    "import pandas as pd\n",
    "import numpy as np"
   ]
  },
  {
   "cell_type": "markdown",
   "metadata": {},
   "source": [
    "# Target and Features selection"
   ]
  },
  {
   "cell_type": "code",
   "execution_count": 2,
   "metadata": {},
   "outputs": [],
   "source": [
    "df = pd.read_pickle(\"../data/processed/df_pickle\")\n",
    "# df = pd.read_csv(\"../data/processed/full_df.csv\", index_col=0)"
   ]
  },
  {
   "cell_type": "code",
   "execution_count": 6,
   "metadata": {},
   "outputs": [],
   "source": [
    "target = \"Attrition\"  # nan values \n",
    "features = [\"DistanceFromHome\", \"JobSatisfaction\", \"NumCompaniesWorked\", \"MonthlyIncome\", \"Gender\", \n",
    "    \"TotalWorkingYears\", \"WorkLifeBalance\", \"YearsInCurrentRole\",\"YearlyIncome\"]"
   ]
  },
  {
   "cell_type": "code",
   "execution_count": 14,
   "metadata": {},
   "outputs": [],
   "source": [
    "X = df[features]\n",
    "y = df[target]\n",
    "\n",
    "num_attr = X.select_dtypes(include='number').columns\n",
    "cat_attr = X.select_dtypes(exclude='number').columns\n",
    "\n",
    "from sklearn.model_selection import train_test_split\n",
    "\n",
    "X_train, X_test, y_train, y_test = train_test_split(X, y, random_state=42, test_size=0.2)\n",
    "\n",
    "# fill na with most frequent value\n",
    "y_train = y_train.fillna(y_train.value_counts().index[0])\n",
    "y_test = y_test.fillna(y_test.value_counts().index[0])\n",
    "\n",
    "\n",
    "# do tego miejsca przeniesc do build_fetures"
   ]
  },
  {
   "cell_type": "code",
   "execution_count": 8,
   "metadata": {},
   "outputs": [],
   "source": [
    "from sklearn.pipeline import Pipeline\n",
    "from sklearn.compose import ColumnTransformer\n",
    "from sklearn.preprocessing import StandardScaler, OneHotEncoder\n",
    "from sklearn.impute import SimpleImputer\n",
    "from src.helping_functions import TrimOutliers\n",
    "\n",
    "\n",
    "numeric_pipeline = Pipeline(\n",
    "    [\n",
    "        ('imputer', SimpleImputer(strategy='median')),\n",
    "        (\"trimer\", TrimOutliers()),\n",
    "        (\"std_scaler\", StandardScaler()),\n",
    "    ]\n",
    ")\n",
    "\n",
    "category_pipeline = Pipeline(\n",
    "    [\n",
    "        ('imputer', SimpleImputer(strategy=\"most_frequent\")),\n",
    "        ('ohe', OneHotEncoder())\n",
    "    ]\n",
    ")\n",
    "\n",
    "cat_num_pipeline = ColumnTransformer(\n",
    "    [\n",
    "        (\"numerical\", numeric_pipeline, num_attr),\n",
    "        (\"categorical\", category_pipeline, cat_attr)\n",
    "    ]\n",
    ")\n",
    "\n"
   ]
  }
 ],
 "metadata": {
  "interpreter": {
   "hash": "c255ba86a6d0075ceff98e91438cda1cc57aee8ebb35fc649c7209093bee4b9f"
  },
  "kernelspec": {
   "display_name": "Python 3.10.2 ('venv': venv)",
   "language": "python",
   "name": "python3"
  },
  "language_info": {
   "codemirror_mode": {
    "name": "ipython",
    "version": 3
   },
   "file_extension": ".py",
   "mimetype": "text/x-python",
   "name": "python",
   "nbconvert_exporter": "python",
   "pygments_lexer": "ipython3",
   "version": "3.10.2"
  },
  "orig_nbformat": 4
 },
 "nbformat": 4,
 "nbformat_minor": 2
}
