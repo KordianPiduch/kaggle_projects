{
 "cells": [
  {
   "cell_type": "code",
   "execution_count": 1,
   "metadata": {},
   "outputs": [],
   "source": [
    "import pandas as pd\n",
    "from src.features.build_features import X_train, X_test, y_train, y_test\n",
    "import src.helping_functions as hf"
   ]
  },
  {
   "cell_type": "code",
   "execution_count": 2,
   "metadata": {},
   "outputs": [
    {
     "data": {
      "text/plain": [
       "(3559, 15)"
      ]
     },
     "execution_count": 2,
     "metadata": {},
     "output_type": "execute_result"
    }
   ],
   "source": [
    "X_train.shape"
   ]
  },
  {
   "cell_type": "code",
   "execution_count": 3,
   "metadata": {},
   "outputs": [
    {
     "name": "stdout",
     "output_type": "stream",
     "text": [
      "train classification report\n",
      "              precision    recall  f1-score   support\n",
      "\n",
      "           0       0.65      0.25      0.36      1677\n",
      "           1       0.57      0.88      0.69      1882\n",
      "\n",
      "    accuracy                           0.58      3559\n",
      "   macro avg       0.61      0.56      0.52      3559\n",
      "weighted avg       0.61      0.58      0.53      3559\n",
      "\n",
      "\n",
      "test classification report\n",
      "              precision    recall  f1-score   support\n",
      "\n",
      "           0       0.46      0.16      0.24       403\n",
      "           1       0.55      0.84      0.66       487\n",
      "\n",
      "    accuracy                           0.53       890\n",
      "   macro avg       0.50      0.50      0.45       890\n",
      "weighted avg       0.51      0.53      0.47       890\n",
      "\n",
      "train classification report\n",
      "\n",
      "test classification report\n"
     ]
    },
    {
     "data": {
      "image/png": "[encoded data removed]",
      "text/plain": [
       "<Figure size 432x288 with 2 Axes>"
      ]
     },
     "metadata": {
      "needs_background": "light"
     },
     "output_type": "display_data"
    },
    {
     "data": {
      "image/png": "[encoded data removed]",
      "text/plain": [
       "<Figure size 432x288 with 2 Axes>"
      ]
     },
     "metadata": {
      "needs_background": "light"
     },
     "output_type": "display_data"
    }
   ],
   "source": [
    "from sklearn.ensemble import RandomForestClassifier\n",
    "\n",
    "rf = RandomForestClassifier(n_estimators=200, max_depth=4, min_samples_split=7, random_state=42)\n",
    "# max_depth=4, min_samples_split=7, random_state=42\n",
    "rf.fit(X_train, y_train)\n",
    "\n",
    "y_pred_rf_tr = rf.predict(X_train)\n",
    "y_pred_rf_ts = rf.predict(X_test)\n",
    "\n",
    "hf.print_classification_report(y_train, y_pred_rf_tr, y_test, y_pred_rf_ts)\n",
    "hf.plot_conf_matrix(y_train, y_pred_rf_tr, y_test, y_pred_rf_ts)"
   ]
  }
 ],
 "metadata": {
  "interpreter": {
   "hash": "c255ba86a6d0075ceff98e91438cda1cc57aee8ebb35fc649c7209093bee4b9f"
  },
  "kernelspec": {
   "display_name": "Python 3.10.2 ('venv': venv)",
   "language": "python",
   "name": "python3"
  },
  "language_info": {
   "codemirror_mode": {
    "name": "ipython",
    "version": 3
   },
   "file_extension": ".py",
   "mimetype": "text/x-python",
   "name": "python",
   "nbconvert_exporter": "python",
   "pygments_lexer": "ipython3",
   "version": "3.10.2"
  },
  "orig_nbformat": 4
 },
 "nbformat": 4,
 "nbformat_minor": 2
}
