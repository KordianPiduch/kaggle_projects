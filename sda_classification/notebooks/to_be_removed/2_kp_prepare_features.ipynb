{
 "cells": [
  {
   "cell_type": "code",
   "execution_count": 21,
   "metadata": {},
   "outputs": [],
   "source": [
    "import pandas as pd\n",
    "import numpy as np"
   ]
  },
  {
   "cell_type": "markdown",
   "metadata": {},
   "source": [
    "# Target and Features selection"
   ]
  },
  {
   "cell_type": "code",
   "execution_count": 22,
   "metadata": {},
   "outputs": [],
   "source": [
    "df = pd.read_pickle(\"../data/processed/full_df\")"
   ]
  },
  {
   "cell_type": "code",
   "execution_count": 24,
   "metadata": {},
   "outputs": [],
   "source": [
    "target = \"Attrition\"  # nan values \n",
    "features = ['Age', 'DailyRate', 'DistanceFromHome', 'JobLevel', 'JobSatisfaction', 'MonthlyIncome',\n",
    "       'NumCompaniesWorked', 'OverTime', 'PercentSalaryHike', 'TotalWorkingYears']"
   ]
  },
  {
   "cell_type": "code",
   "execution_count": 25,
   "metadata": {},
   "outputs": [],
   "source": [
    "X = df[features]\n",
    "y = df[target]\n",
    "\n",
    "from sklearn.model_selection import train_test_split\n",
    "\n",
    "X_train, X_test, y_train, y_test = train_test_split(X, y, random_state=42, test_size=0.2)\n",
    "\n",
    "# fill na with most frequent value\n",
    "y_train = y_train.fillna(y_train.value_counts().index[0])\n",
    "y_test = y_test.fillna(y_test.value_counts().index[0])"
   ]
  },
  {
   "cell_type": "code",
   "execution_count": 26,
   "metadata": {},
   "outputs": [
    {
     "data": {
      "text/plain": [
       "<AxesSubplot:>"
      ]
     },
     "execution_count": 26,
     "metadata": {},
     "output_type": "execute_result"
    },
    {
     "data": {
      "image/png": "[encoded data removed]",
      "text/plain": [
       "<Figure size 432x288 with 1 Axes>"
      ]
     },
     "metadata": {
      "needs_background": "light"
     },
     "output_type": "display_data"
    }
   ],
   "source": [
    "X_train[\"MonthlyIncome\"].hist()"
   ]
  },
  {
   "cell_type": "code",
   "execution_count": 27,
   "metadata": {},
   "outputs": [
    {
     "data": {
      "text/plain": [
       "<AxesSubplot:>"
      ]
     },
     "execution_count": 27,
     "metadata": {},
     "output_type": "execute_result"
    },
    {
     "data": {
      "image/png": "[encoded data removed]",
      "text/plain": [
       "<Figure size 432x288 with 1 Axes>"
      ]
     },
     "metadata": {
      "needs_background": "light"
     },
     "output_type": "display_data"
    }
   ],
   "source": [
    "X_test[\"MonthlyIncome\"].hist()"
   ]
  },
  {
   "cell_type": "code",
   "execution_count": 28,
   "metadata": {},
   "outputs": [],
   "source": [
    "from sklearn.pipeline import Pipeline\n",
    "from sklearn.compose import ColumnTransformer\n",
    "from sklearn.preprocessing import StandardScaler, OneHotEncoder\n",
    "from sklearn.impute import SimpleImputer\n",
    "\n",
    "num_attr = X.select_dtypes(include='number').columns\n",
    "cat_attr = X.select_dtypes(exclude='number').columns\n",
    "\n",
    "numeric_pipeline = Pipeline(\n",
    "    [\n",
    "        ('imputer', SimpleImputer(strategy='median')),\n",
    "        (\"std_scaler\", StandardScaler()),\n",
    "    ]\n",
    ")\n",
    "\n",
    "category_pipeline = Pipeline(\n",
    "    [\n",
    "        ('imputer', SimpleImputer(strategy=\"most_frequent\")),\n",
    "        ('ohe', OneHotEncoder())\n",
    "    ]\n",
    ")\n",
    "\n",
    "full_pipeline = ColumnTransformer(\n",
    "    [\n",
    "        (\"numerical\", numeric_pipeline, num_attr),\n",
    "        (\"categorical\", category_pipeline, cat_attr)\n",
    "    ]\n",
    ")"
   ]
  },
  {
   "cell_type": "code",
   "execution_count": 29,
   "metadata": {},
   "outputs": [],
   "source": [
    "X_train_tr = full_pipeline.fit_transform(X_train)\n",
    "X_test_tr = full_pipeline.fit_transform(X_test)"
   ]
  },
  {
   "cell_type": "code",
   "execution_count": 30,
   "metadata": {},
   "outputs": [],
   "source": [
    "from sklearn.linear_model import LogisticRegression\n",
    "from sklearn.tree import DecisionTreeClassifier\n",
    "from sklearn.ensemble import RandomForestClassifier, AdaBoostClassifier, GradientBoostingClassifier\n",
    "from sklearn.svm import SVC"
   ]
  },
  {
   "cell_type": "code",
   "execution_count": 31,
   "metadata": {},
   "outputs": [],
   "source": [
    "import src.helping_functions as hf"
   ]
  },
  {
   "cell_type": "markdown",
   "metadata": {},
   "source": [
    "### Decision tree"
   ]
  },
  {
   "cell_type": "code",
   "execution_count": 32,
   "metadata": {},
   "outputs": [
    {
     "name": "stdout",
     "output_type": "stream",
     "text": [
      "train classification report\n",
      "              precision    recall  f1-score   support\n",
      "\n",
      "           0       0.57      0.38      0.45      1677\n",
      "           1       0.57      0.74      0.65      1882\n",
      "\n",
      "    accuracy                           0.57      3559\n",
      "   macro avg       0.57      0.56      0.55      3559\n",
      "weighted avg       0.57      0.57      0.56      3559\n",
      "\n",
      "\n",
      "test classification report\n",
      "              precision    recall  f1-score   support\n",
      "\n",
      "           0       0.50      0.34      0.40       403\n",
      "           1       0.57      0.72      0.64       487\n",
      "\n",
      "    accuracy                           0.55       890\n",
      "   macro avg       0.53      0.53      0.52       890\n",
      "weighted avg       0.54      0.55      0.53       890\n",
      "\n",
      "train classification report\n",
      "\n",
      "test classification report\n"
     ]
    },
    {
     "data": {
      "image/png": "[encoded data removed]",
      "text/plain": [
       "<Figure size 432x288 with 2 Axes>"
      ]
     },
     "metadata": {
      "needs_background": "light"
     },
     "output_type": "display_data"
    },
    {
     "data": {
      "image/png": "[encoded data removed]",
      "text/plain": [
       "<Figure size 432x288 with 2 Axes>"
      ]
     },
     "metadata": {
      "needs_background": "light"
     },
     "output_type": "display_data"
    }
   ],
   "source": [
    "dt = DecisionTreeClassifier(max_depth=5, min_samples_split=3, random_state=42)\n",
    "dt.fit(X_train_tr, y_train)\n",
    "\n",
    "y_pred_dt_tr = dt.predict(X_train_tr)\n",
    "y_pred_dt_ts = dt.predict(X_test_tr)\n",
    "\n",
    "hf.print_classification_report(y_train, y_pred_dt_tr, y_test, y_pred_dt_ts)\n",
    "hf.plot_conf_matrix(y_train, y_pred_dt_tr, y_test, y_pred_dt_ts)"
   ]
  },
  {
   "cell_type": "markdown",
   "metadata": {},
   "source": [
    "### Random Forest"
   ]
  },
  {
   "cell_type": "code",
   "execution_count": 33,
   "metadata": {},
   "outputs": [
    {
     "name": "stdout",
     "output_type": "stream",
     "text": [
      "train classification report\n",
      "              precision    recall  f1-score   support\n",
      "\n",
      "           0       0.70      0.24      0.36      1677\n",
      "           1       0.57      0.91      0.70      1882\n",
      "\n",
      "    accuracy                           0.59      3559\n",
      "   macro avg       0.64      0.57      0.53      3559\n",
      "weighted avg       0.63      0.59      0.54      3559\n",
      "\n",
      "\n",
      "test classification report\n",
      "              precision    recall  f1-score   support\n",
      "\n",
      "           0       0.48      0.16      0.24       403\n",
      "           1       0.55      0.85      0.67       487\n",
      "\n",
      "    accuracy                           0.54       890\n",
      "   macro avg       0.52      0.51      0.46       890\n",
      "weighted avg       0.52      0.54      0.48       890\n",
      "\n",
      "train classification report\n",
      "\n",
      "test classification report\n"
     ]
    },
    {
     "data": {
      "image/png": "[encoded data removed]",
      "text/plain": [
       "<Figure size 432x288 with 2 Axes>"
      ]
     },
     "metadata": {
      "needs_background": "light"
     },
     "output_type": "display_data"
    },
    {
     "data": {
      "image/png": "[encoded data removed]",
      "text/plain": [
       "<Figure size 432x288 with 2 Axes>"
      ]
     },
     "metadata": {
      "needs_background": "light"
     },
     "output_type": "display_data"
    }
   ],
   "source": [
    "rf = RandomForestClassifier(n_estimators=100, max_depth=4, min_samples_split=7, random_state=42)\n",
    "rf.fit(X_train_tr, y_train)\n",
    "\n",
    "y_pred_rf_tr = rf.predict(X_train_tr)\n",
    "y_pred_rf_ts = rf.predict(X_test_tr)\n",
    "\n",
    "hf.print_classification_report(y_train, y_pred_rf_tr, y_test, y_pred_rf_ts)\n",
    "hf.plot_conf_matrix(y_train, y_pred_rf_tr, y_test, y_pred_rf_ts)"
   ]
  },
  {
   "cell_type": "markdown",
   "metadata": {},
   "source": [
    "### AdaBoost"
   ]
  },
  {
   "cell_type": "code",
   "execution_count": 34,
   "metadata": {},
   "outputs": [
    {
     "name": "stdout",
     "output_type": "stream",
     "text": [
      "train classification report\n",
      "              precision    recall  f1-score   support\n",
      "\n",
      "           0       0.60      0.47      0.53      1677\n",
      "           1       0.61      0.72      0.66      1882\n",
      "\n",
      "    accuracy                           0.60      3559\n",
      "   macro avg       0.60      0.60      0.59      3559\n",
      "weighted avg       0.60      0.60      0.60      3559\n",
      "\n",
      "\n",
      "test classification report\n",
      "              precision    recall  f1-score   support\n",
      "\n",
      "           0       0.48      0.40      0.44       403\n",
      "           1       0.56      0.64      0.60       487\n",
      "\n",
      "    accuracy                           0.53       890\n",
      "   macro avg       0.52      0.52      0.52       890\n",
      "weighted avg       0.53      0.53      0.53       890\n",
      "\n",
      "train classification report\n",
      "\n",
      "test classification report\n"
     ]
    },
    {
     "data": {
      "image/png": "[encoded data removed]",
      "text/plain": [
       "<Figure size 432x288 with 2 Axes>"
      ]
     },
     "metadata": {
      "needs_background": "light"
     },
     "output_type": "display_data"
    },
    {
     "data": {
      "image/png": "[encoded data removed]",
      "text/plain": [
       "<Figure size 432x288 with 2 Axes>"
      ]
     },
     "metadata": {
      "needs_background": "light"
     },
     "output_type": "display_data"
    }
   ],
   "source": [
    "ada = AdaBoostClassifier(n_estimators=150)\n",
    "ada.fit(X_train_tr, y_train)\n",
    "\n",
    "y_pred_ada_tr = ada.predict(X_train_tr)\n",
    "y_pred_ada_ts = ada.predict(X_test_tr)\n",
    "\n",
    "hf.print_classification_report(y_train, y_pred_ada_tr, y_test, y_pred_ada_ts)\n",
    "hf.plot_conf_matrix(y_train, y_pred_ada_tr, y_test, y_pred_ada_ts)"
   ]
  },
  {
   "cell_type": "markdown",
   "metadata": {},
   "source": [
    "### Gradient Boost"
   ]
  },
  {
   "cell_type": "code",
   "execution_count": 35,
   "metadata": {},
   "outputs": [
    {
     "name": "stdout",
     "output_type": "stream",
     "text": [
      "train classification report\n",
      "              precision    recall  f1-score   support\n",
      "\n",
      "           0       0.76      0.74      0.75      1677\n",
      "           1       0.77      0.79      0.78      1882\n",
      "\n",
      "    accuracy                           0.77      3559\n",
      "   macro avg       0.77      0.77      0.77      3559\n",
      "weighted avg       0.77      0.77      0.77      3559\n",
      "\n",
      "\n",
      "test classification report\n",
      "              precision    recall  f1-score   support\n",
      "\n",
      "           0       0.47      0.47      0.47       403\n",
      "           1       0.56      0.56      0.56       487\n",
      "\n",
      "    accuracy                           0.52       890\n",
      "   macro avg       0.52      0.52      0.52       890\n",
      "weighted avg       0.52      0.52      0.52       890\n",
      "\n",
      "train classification report\n",
      "\n",
      "test classification report\n"
     ]
    },
    {
     "data": {
      "image/png": "[encoded data removed]",
      "text/plain": [
       "<Figure size 432x288 with 2 Axes>"
      ]
     },
     "metadata": {
      "needs_background": "light"
     },
     "output_type": "display_data"
    },
    {
     "data": {
      "image/png": "[encoded data removed]",
      "text/plain": [
       "<Figure size 432x288 with 2 Axes>"
      ]
     },
     "metadata": {
      "needs_background": "light"
     },
     "output_type": "display_data"
    }
   ],
   "source": [
    "gb = GradientBoostingClassifier(n_estimators=1000, learning_rate=0.1, max_depth=5, min_samples_split=5)\n",
    "gb.fit(X_train_tr, y_train)\n",
    "\n",
    "y_pred_gb_tr = gb.predict(X_train_tr)\n",
    "y_pred_gb_ts = gb.predict(X_test_tr)\n",
    "\n",
    "hf.print_classification_report(y_train, y_pred_gb_tr, y_test, y_pred_gb_ts)\n",
    "hf.plot_conf_matrix(y_train, y_pred_gb_tr, y_test, y_pred_gb_ts)"
   ]
  },
  {
   "cell_type": "markdown",
   "metadata": {},
   "source": [
    "### Logistic Regression"
   ]
  },
  {
   "cell_type": "code",
   "execution_count": 36,
   "metadata": {},
   "outputs": [
    {
     "name": "stdout",
     "output_type": "stream",
     "text": [
      "train classification report\n",
      "              precision    recall  f1-score   support\n",
      "\n",
      "           0       0.51      0.33      0.40      1677\n",
      "           1       0.54      0.71      0.62      1882\n",
      "\n",
      "    accuracy                           0.53      3559\n",
      "   macro avg       0.52      0.52      0.51      3559\n",
      "weighted avg       0.53      0.53      0.51      3559\n",
      "\n",
      "\n",
      "test classification report\n",
      "              precision    recall  f1-score   support\n",
      "\n",
      "           0       0.48      0.33      0.39       403\n",
      "           1       0.56      0.71      0.62       487\n",
      "\n",
      "    accuracy                           0.53       890\n",
      "   macro avg       0.52      0.52      0.51       890\n",
      "weighted avg       0.52      0.53      0.52       890\n",
      "\n",
      "train classification report\n",
      "\n",
      "test classification report\n"
     ]
    },
    {
     "data": {
      "image/png": "[encoded data removed]",
      "text/plain": [
       "<Figure size 432x288 with 2 Axes>"
      ]
     },
     "metadata": {
      "needs_background": "light"
     },
     "output_type": "display_data"
    },
    {
     "data": {
      "image/png": "[encoded data removed]",
      "text/plain": [
       "<Figure size 432x288 with 2 Axes>"
      ]
     },
     "metadata": {
      "needs_background": "light"
     },
     "output_type": "display_data"
    }
   ],
   "source": [
    "lr = LogisticRegression()\n",
    "lr.fit(X_train_tr, y_train)\n",
    "\n",
    "y_pred_lr_tr = lr.predict(X_train_tr)\n",
    "y_pred_lr_ts = lr.predict(X_test_tr)\n",
    "\n",
    "hf.print_classification_report(y_train, y_pred_lr_tr, y_test, y_pred_lr_ts)\n",
    "hf.plot_conf_matrix(y_train, y_pred_lr_tr, y_test, y_pred_lr_ts)"
   ]
  },
  {
   "cell_type": "markdown",
   "metadata": {},
   "source": [
    "### svc"
   ]
  },
  {
   "cell_type": "code",
   "execution_count": 37,
   "metadata": {},
   "outputs": [
    {
     "name": "stdout",
     "output_type": "stream",
     "text": [
      "train classification report\n",
      "              precision    recall  f1-score   support\n",
      "\n",
      "           0       0.65      0.44      0.52      1677\n",
      "           1       0.61      0.79      0.69      1882\n",
      "\n",
      "    accuracy                           0.62      3559\n",
      "   macro avg       0.63      0.61      0.61      3559\n",
      "weighted avg       0.63      0.62      0.61      3559\n",
      "\n",
      "\n",
      "test classification report\n",
      "              precision    recall  f1-score   support\n",
      "\n",
      "           0       0.47      0.31      0.37       403\n",
      "           1       0.55      0.71      0.62       487\n",
      "\n",
      "    accuracy                           0.53       890\n",
      "   macro avg       0.51      0.51      0.50       890\n",
      "weighted avg       0.51      0.53      0.51       890\n",
      "\n",
      "train classification report\n",
      "\n",
      "test classification report\n"
     ]
    },
    {
     "data": {
      "image/png": "[encoded data removed]",
      "text/plain": [
       "<Figure size 432x288 with 2 Axes>"
      ]
     },
     "metadata": {
      "needs_background": "light"
     },
     "output_type": "display_data"
    },
    {
     "data": {
      "image/png": "[encoded data removed]",
      "text/plain": [
       "<Figure size 432x288 with 2 Axes>"
      ]
     },
     "metadata": {
      "needs_background": "light"
     },
     "output_type": "display_data"
    }
   ],
   "source": [
    "svc = SVC(kernel=\"rbf\")\n",
    "svc.fit(X_train_tr, y_train)\n",
    "\n",
    "y_pred_svc_tr = svc.predict(X_train_tr)\n",
    "y_pred_svc_ts = svc.predict(X_test_tr)\n",
    "\n",
    "hf.print_classification_report(y_train, y_pred_svc_tr, y_test, y_pred_svc_ts)\n",
    "hf.plot_conf_matrix(y_train, y_pred_svc_tr, y_test, y_pred_svc_ts)"
   ]
  },
  {
   "cell_type": "markdown",
   "metadata": {},
   "source": [
    "Fine-tuning Random Forest"
   ]
  },
  {
   "cell_type": "code",
   "execution_count": 38,
   "metadata": {},
   "outputs": [
    {
     "data": {
      "text/html": [
       "<style>#sk-container-id-2 {color: black;background-color: white;}#sk-container-id-2 pre{padding: 0;}#sk-container-id-2 div.sk-toggleable {background-color: white;}#sk-container-id-2 label.sk-toggleable__label {cursor: pointer;display: block;width: 100%;margin-bottom: 0;padding: 0.3em;box-sizing: border-box;text-align: center;}#sk-container-id-2 label.sk-toggleable__label-arrow:before {content: \"▸\";float: left;margin-right: 0.25em;color: #696969;}#sk-container-id-2 label.sk-toggleable__label-arrow:hover:before {color: black;}#sk-container-id-2 div.sk-estimator:hover label.sk-toggleable__label-arrow:before {color: black;}#sk-container-id-2 div.sk-toggleable__content {max-height: 0;max-width: 0;overflow: hidden;text-align: left;background-color: #f0f8ff;}#sk-container-id-2 div.sk-toggleable__content pre {margin: 0.2em;color: black;border-radius: 0.25em;background-color: #f0f8ff;}#sk-container-id-2 input.sk-toggleable__control:checked~div.sk-toggleable__content {max-height: 200px;max-width: 100%;overflow: auto;}#sk-container-id-2 input.sk-toggleable__control:checked~label.sk-toggleable__label-arrow:before {content: \"▾\";}#sk-container-id-2 div.sk-estimator input.sk-toggleable__control:checked~label.sk-toggleable__label {background-color: #d4ebff;}#sk-container-id-2 div.sk-label input.sk-toggleable__control:checked~label.sk-toggleable__label {background-color: #d4ebff;}#sk-container-id-2 input.sk-hidden--visually {border: 0;clip: rect(1px 1px 1px 1px);clip: rect(1px, 1px, 1px, 1px);height: 1px;margin: -1px;overflow: hidden;padding: 0;position: absolute;width: 1px;}#sk-container-id-2 div.sk-estimator {font-family: monospace;background-color: #f0f8ff;border: 1px dotted black;border-radius: 0.25em;box-sizing: border-box;margin-bottom: 0.5em;}#sk-container-id-2 div.sk-estimator:hover {background-color: #d4ebff;}#sk-container-id-2 div.sk-parallel-item::after {content: \"\";width: 100%;border-bottom: 1px solid gray;flex-grow: 1;}#sk-container-id-2 div.sk-label:hover label.sk-toggleable__label {background-color: #d4ebff;}#sk-container-id-2 div.sk-serial::before {content: \"\";position: absolute;border-left: 1px solid gray;box-sizing: border-box;top: 0;bottom: 0;left: 50%;z-index: 0;}#sk-container-id-2 div.sk-serial {display: flex;flex-direction: column;align-items: center;background-color: white;padding-right: 0.2em;padding-left: 0.2em;position: relative;}#sk-container-id-2 div.sk-item {position: relative;z-index: 1;}#sk-container-id-2 div.sk-parallel {display: flex;align-items: stretch;justify-content: center;background-color: white;position: relative;}#sk-container-id-2 div.sk-item::before, #sk-container-id-2 div.sk-parallel-item::before {content: \"\";position: absolute;border-left: 1px solid gray;box-sizing: border-box;top: 0;bottom: 0;left: 50%;z-index: -1;}#sk-container-id-2 div.sk-parallel-item {display: flex;flex-direction: column;z-index: 1;position: relative;background-color: white;}#sk-container-id-2 div.sk-parallel-item:first-child::after {align-self: flex-end;width: 50%;}#sk-container-id-2 div.sk-parallel-item:last-child::after {align-self: flex-start;width: 50%;}#sk-container-id-2 div.sk-parallel-item:only-child::after {width: 0;}#sk-container-id-2 div.sk-dashed-wrapped {border: 1px dashed gray;margin: 0 0.4em 0.5em 0.4em;box-sizing: border-box;padding-bottom: 0.4em;background-color: white;}#sk-container-id-2 div.sk-label label {font-family: monospace;font-weight: bold;display: inline-block;line-height: 1.2em;}#sk-container-id-2 div.sk-label-container {text-align: center;}#sk-container-id-2 div.sk-container {/* jupyter's `normalize.less` sets `[hidden] { display: none; }` but bootstrap.min.css set `[hidden] { display: none !important; }` so we also need the `!important` here to be able to override the default hidden behavior on the sphinx rendered scikit-learn.org. See: https://github.com/scikit-learn/scikit-learn/issues/21755 */display: inline-block !important;position: relative;}#sk-container-id-2 div.sk-text-repr-fallback {display: none;}</style><div id=\"sk-container-id-2\" class=\"sk-top-container\"><div class=\"sk-text-repr-fallback\"><pre>GridSearchCV(cv=10, estimator=AdaBoostClassifier(n_estimators=150),\n",
       "             param_grid=[{&#x27;n_estimators&#x27;: [100, 1000]}], scoring=&#x27;f1&#x27;)</pre><b>In a Jupyter environment, please rerun this cell to show the HTML representation or trust the notebook. <br />On GitHub, the HTML representation is unable to render, please try loading this page with nbviewer.org.</b></div><div class=\"sk-container\" hidden><div class=\"sk-item sk-dashed-wrapped\"><div class=\"sk-label-container\"><div class=\"sk-label sk-toggleable\"><input class=\"sk-toggleable__control sk-hidden--visually\" id=\"sk-estimator-id-4\" type=\"checkbox\" ><label for=\"sk-estimator-id-4\" class=\"sk-toggleable__label sk-toggleable__label-arrow\">GridSearchCV</label><div class=\"sk-toggleable__content\"><pre>GridSearchCV(cv=10, estimator=AdaBoostClassifier(n_estimators=150),\n",
       "             param_grid=[{&#x27;n_estimators&#x27;: [100, 1000]}], scoring=&#x27;f1&#x27;)</pre></div></div></div><div class=\"sk-parallel\"><div class=\"sk-parallel-item\"><div class=\"sk-item\"><div class=\"sk-label-container\"><div class=\"sk-label sk-toggleable\"><input class=\"sk-toggleable__control sk-hidden--visually\" id=\"sk-estimator-id-5\" type=\"checkbox\" ><label for=\"sk-estimator-id-5\" class=\"sk-toggleable__label sk-toggleable__label-arrow\">estimator: AdaBoostClassifier</label><div class=\"sk-toggleable__content\"><pre>AdaBoostClassifier(n_estimators=150)</pre></div></div></div><div class=\"sk-serial\"><div class=\"sk-item\"><div class=\"sk-estimator sk-toggleable\"><input class=\"sk-toggleable__control sk-hidden--visually\" id=\"sk-estimator-id-6\" type=\"checkbox\" ><label for=\"sk-estimator-id-6\" class=\"sk-toggleable__label sk-toggleable__label-arrow\">AdaBoostClassifier</label><div class=\"sk-toggleable__content\"><pre>AdaBoostClassifier(n_estimators=150)</pre></div></div></div></div></div></div></div></div></div></div>"
      ],
      "text/plain": [
       "GridSearchCV(cv=10, estimator=AdaBoostClassifier(n_estimators=150),\n",
       "             param_grid=[{'n_estimators': [100, 1000]}], scoring='f1')"
      ]
     },
     "execution_count": 38,
     "metadata": {},
     "output_type": "execute_result"
    }
   ],
   "source": [
    "grid_params = [\n",
    "    {\n",
    "        \"n_estimators\": [100,1000],\n",
    "        # \"max_depth\": [4,5,6],\n",
    "        # \"min_samples_split\": [3,5,7,9],\n",
    "    }\n",
    "]\n",
    "\n",
    "from sklearn.model_selection import GridSearchCV\n",
    "\n",
    "grid_search = GridSearchCV(ada, grid_params, cv=10, verbose=0, scoring=\"f1\")\n",
    "grid_search.fit(X_train_tr, y_train)"
   ]
  },
  {
   "cell_type": "code",
   "execution_count": 39,
   "metadata": {},
   "outputs": [
    {
     "data": {
      "text/html": [
       "<div>\n",
       "<style scoped>\n",
       "    .dataframe tbody tr th:only-of-type {\n",
       "        vertical-align: middle;\n",
       "    }\n",
       "\n",
       "    .dataframe tbody tr th {\n",
       "        vertical-align: top;\n",
       "    }\n",
       "\n",
       "    .dataframe thead th {\n",
       "        text-align: right;\n",
       "    }\n",
       "</style>\n",
       "<table border=\"1\" class=\"dataframe\">\n",
       "  <thead>\n",
       "    <tr style=\"text-align: right;\">\n",
       "      <th></th>\n",
       "      <th>mean_fit_time</th>\n",
       "      <th>std_fit_time</th>\n",
       "      <th>mean_score_time</th>\n",
       "      <th>std_score_time</th>\n",
       "      <th>param_n_estimators</th>\n",
       "      <th>params</th>\n",
       "      <th>split0_test_score</th>\n",
       "      <th>split1_test_score</th>\n",
       "      <th>split2_test_score</th>\n",
       "      <th>split3_test_score</th>\n",
       "      <th>split4_test_score</th>\n",
       "      <th>split5_test_score</th>\n",
       "      <th>split6_test_score</th>\n",
       "      <th>split7_test_score</th>\n",
       "      <th>split8_test_score</th>\n",
       "      <th>split9_test_score</th>\n",
       "      <th>mean_test_score</th>\n",
       "      <th>std_test_score</th>\n",
       "      <th>rank_test_score</th>\n",
       "    </tr>\n",
       "  </thead>\n",
       "  <tbody>\n",
       "    <tr>\n",
       "      <th>0</th>\n",
       "      <td>0.160524</td>\n",
       "      <td>0.003934</td>\n",
       "      <td>0.005247</td>\n",
       "      <td>0.000132</td>\n",
       "      <td>100</td>\n",
       "      <td>{'n_estimators': 100}</td>\n",
       "      <td>0.568475</td>\n",
       "      <td>0.606965</td>\n",
       "      <td>0.581560</td>\n",
       "      <td>0.551220</td>\n",
       "      <td>0.578313</td>\n",
       "      <td>0.559796</td>\n",
       "      <td>0.597156</td>\n",
       "      <td>0.613953</td>\n",
       "      <td>0.625592</td>\n",
       "      <td>0.557214</td>\n",
       "      <td>0.584025</td>\n",
       "      <td>0.024464</td>\n",
       "      <td>1</td>\n",
       "    </tr>\n",
       "    <tr>\n",
       "      <th>1</th>\n",
       "      <td>1.648738</td>\n",
       "      <td>0.033391</td>\n",
       "      <td>0.048257</td>\n",
       "      <td>0.001240</td>\n",
       "      <td>1000</td>\n",
       "      <td>{'n_estimators': 1000}</td>\n",
       "      <td>0.568365</td>\n",
       "      <td>0.569231</td>\n",
       "      <td>0.544554</td>\n",
       "      <td>0.530303</td>\n",
       "      <td>0.569231</td>\n",
       "      <td>0.485333</td>\n",
       "      <td>0.572840</td>\n",
       "      <td>0.574209</td>\n",
       "      <td>0.566416</td>\n",
       "      <td>0.532663</td>\n",
       "      <td>0.551315</td>\n",
       "      <td>0.027087</td>\n",
       "      <td>2</td>\n",
       "    </tr>\n",
       "  </tbody>\n",
       "</table>\n",
       "</div>"
      ],
      "text/plain": [
       "   mean_fit_time  std_fit_time  mean_score_time  std_score_time  \\\n",
       "0       0.160524      0.003934         0.005247        0.000132   \n",
       "1       1.648738      0.033391         0.048257        0.001240   \n",
       "\n",
       "  param_n_estimators                  params  split0_test_score  \\\n",
       "0                100   {'n_estimators': 100}           0.568475   \n",
       "1               1000  {'n_estimators': 1000}           0.568365   \n",
       "\n",
       "   split1_test_score  split2_test_score  split3_test_score  split4_test_score  \\\n",
       "0           0.606965           0.581560           0.551220           0.578313   \n",
       "1           0.569231           0.544554           0.530303           0.569231   \n",
       "\n",
       "   split5_test_score  split6_test_score  split7_test_score  split8_test_score  \\\n",
       "0           0.559796           0.597156           0.613953           0.625592   \n",
       "1           0.485333           0.572840           0.574209           0.566416   \n",
       "\n",
       "   split9_test_score  mean_test_score  std_test_score  rank_test_score  \n",
       "0           0.557214         0.584025        0.024464                1  \n",
       "1           0.532663         0.551315        0.027087                2  "
      ]
     },
     "execution_count": 39,
     "metadata": {},
     "output_type": "execute_result"
    }
   ],
   "source": [
    "pd.DataFrame(grid_search.cv_results_).sort_values(by=\"rank_test_score\")"
   ]
  },
  {
   "cell_type": "code",
   "execution_count": null,
   "metadata": {},
   "outputs": [],
   "source": []
  }
 ],
 "metadata": {
  "interpreter": {
   "hash": "c255ba86a6d0075ceff98e91438cda1cc57aee8ebb35fc649c7209093bee4b9f"
  },
  "kernelspec": {
   "display_name": "Python 3.10.2 ('venv': venv)",
   "language": "python",
   "name": "python3"
  },
  "language_info": {
   "codemirror_mode": {
    "name": "ipython",
    "version": 3
   },
   "file_extension": ".py",
   "mimetype": "text/x-python",
   "name": "python",
   "nbconvert_exporter": "python",
   "pygments_lexer": "ipython3",
   "version": "3.10.2"
  },
  "orig_nbformat": 4
 },
 "nbformat": 4,
 "nbformat_minor": 2
}
